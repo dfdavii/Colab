{
 "cells": [
  {
   "cell_type": "code",
   "execution_count": 1,
   "metadata": {},
   "outputs": [
    {
     "name": "stdout",
     "output_type": "stream",
     "text": [
      "      Serotype                                          Sequences\n",
      "0         H1N1  DTICIGYHANNSTDTVDTVLEKNVTVTHSVNLLEDNHNGKLCLLKG...\n",
      "1         H1N1  DTICIGYHANNSTDTVDTVLEKNVTVTHSVNLLEDNHNGKLCLLKG...\n",
      "2         H1N1  DTICIGYHANNSTDTVDTVLEKNVTVTHSVNLLEDSHNGKLCLLKG...\n",
      "3         H1N1  DTICIGYHANNSTDTVDTVLEKNVTVTHSVNLLENSHNGKLCLLKG...\n",
      "4         H1N1  DTICIGYHANNSTDTVDTVLEKNVTVTHSVNLLEDSHNGKLCLLKG...\n",
      "...        ...                                                ...\n",
      "13362  Av-H5N1  MERIVIALAIISIVKGDQICIGYHANNSTEQVDTIMEKNVTVTHAQ...\n",
      "13363  Av-H5N1  MERIVIALAIISIVKGXXDQICIGYHANNSTEQVDTIMEKNVTVTH...\n",
      "13364  Av-H5N1  MEKIVLLLAIVSLVKSDQICIGYHANNSTEQVDTIMEKNVTVTHAQ...\n",
      "13365  Av-H5N1  MEKIVLLLAIVSLVKSDQICIGYHANNSTEQVDTIMEKNVTVTHAQ...\n",
      "13366  Av-H5N1  MEKIVLLFAIVSLVKSDQICIGYHANNSTEQVDTIMEKNVTVTHAQ...\n",
      "\n",
      "[13367 rows x 2 columns]\n"
     ]
    },
    {
     "data": {
      "image/png": "[encoded data removed]",
      "text/plain": [
       "<Figure size 576x432 with 1 Axes>"
      ]
     },
     "metadata": {
      "needs_background": "light"
     },
     "output_type": "display_data"
    }
   ],
   "source": [
    "import pandas as pd\n",
    "import numpy as np\n",
    "import matplotlib.pyplot as plt\n",
    "import seaborn as sns\n",
    "import sklearn.model_selection\n",
    "%matplotlib inline\n",
    "\n",
    "\n",
    "def readSeq(filename):\n",
    "\n",
    "    with open(filename, 'r') as f:\n",
    "        data = ''\n",
    "        name_list = []\n",
    "        seq_list = []\n",
    "\n",
    "        for line in f:\n",
    "\n",
    "            line = line.rstrip()\n",
    "            for i in line:\n",
    "                if i == '>':\n",
    "                    name_list.append(line)\n",
    "                    if data:\n",
    "                        seq_list.append(data)\n",
    "                        data = ''\n",
    "                    break\n",
    "                else:\n",
    "                    line = line.upper()\n",
    "            if all([k == k.upper() for k in line]):\n",
    "                data = data + line\n",
    "    return seq_list\n",
    "\n",
    "\n",
    "def printHuman1():\n",
    "    seqN = []\n",
    "    seq = readSeq('H1N1.txt')\n",
    "    for i in seq:\n",
    "        seqN.append(i)\n",
    "        \n",
    "    mydict = {'Serotype':\"H1N1\", 'Sequences':seqN}\n",
    "    return pd.DataFrame(mydict)\n",
    "h1n1 = printHuman1()\n",
    "def printHuman2():\n",
    "    seqN = []\n",
    "    seq = readSeq('H2N2.txt')\n",
    "    for i in seq:\n",
    "        seqN.append(i)\n",
    "        \n",
    "    mydict = {'Serotype':\"H2N2\", 'Sequences':seqN}\n",
    "    return pd.DataFrame(mydict)\n",
    "h2n2 = printHuman2()\n",
    "def printHuman3():\n",
    "    seqN = []\n",
    "    seq = readSeq('H3N2.txt')\n",
    "    for i in seq:\n",
    "        seqN.append(i)\n",
    "        \n",
    "    mydict = {'Serotype':\"H3N2\", 'Sequences':seqN}\n",
    "    return pd.DataFrame(mydict)\n",
    "h3n2 = printHuman3()\n",
    "def printHuman5():\n",
    "    seqN = []\n",
    "    seq = readSeq('H5N1.txt')\n",
    "    for i in seq:\n",
    "        seqN.append(i)\n",
    "        \n",
    "    mydict = {'Serotype':\"H5N1\", 'Sequences':seqN}\n",
    "    return pd.DataFrame(mydict)\n",
    "h5n1 = printHuman5()\n",
    "def printAvian1():\n",
    "    seqN = []\n",
    "    seq = readSeq('Av-H1N1.txt')\n",
    "    for i in seq:\n",
    "        seqN.append(i)\n",
    "        \n",
    "    mydict = {'Serotype':\"Av-H1N1\", 'Sequences':seqN}\n",
    "    return pd.DataFrame(mydict)\n",
    "avian1 = printAvian1()\n",
    "def printAvian2():\n",
    "    seqN = []\n",
    "    seq = readSeq('Av-H2N2.txt')\n",
    "    for i in seq:\n",
    "        seqN.append(i)\n",
    "        \n",
    "    mydict = {'Serotype':\"Av-H2N2\", 'Sequences':seqN}\n",
    "    return pd.DataFrame(mydict)\n",
    "avian2 = printAvian2()\n",
    "def printAvian3():\n",
    "    seqN = []\n",
    "    seq = readSeq('Av-H3N2.txt')\n",
    "    for i in seq:\n",
    "        seqN.append(i)\n",
    "        \n",
    "    mydict = {'Serotype':\"Av-H3N2\", 'Sequences':seqN}\n",
    "    return pd.DataFrame(mydict)\n",
    "avian3 = printAvian3()\n",
    "def printAvian5():\n",
    "    seqN = []\n",
    "    seq = readSeq('Av-H5N1.txt')\n",
    "    for i in seq:\n",
    "        seqN.append(i)\n",
    "        \n",
    "    mydict = {'Serotype':\"Av-H5N1\", 'Sequences':seqN}\n",
    "    return pd.DataFrame(mydict)\n",
    "avian5 = printAvian5()\n",
    "def printSwine1():\n",
    "    seqN = []\n",
    "    seq = readSeq('SW-H1N1.txt')\n",
    "    for i in seq:\n",
    "        seqN.append(i)\n",
    "        \n",
    "    mydict = {'Serotype':\"SW-H1N1\", 'Sequences':seqN}\n",
    "    return pd.DataFrame(mydict)\n",
    "swine1 = printSwine1()\n",
    "def printSwine3():\n",
    "    seqN = []\n",
    "    seq = readSeq('SW-H3N2.txt')\n",
    "    for i in seq:\n",
    "        seqN.append(i)\n",
    "        \n",
    "    mydict = {'Serotype':\"SW-H3N2\", 'Sequences':seqN}\n",
    "    return pd.DataFrame(mydict)\n",
    "swine3 = printSwine3()\n",
    "def printSwine5():\n",
    "    seqN = []\n",
    "    seq = readSeq('SW-H5N1.txt')\n",
    "    for i in seq:\n",
    "        seqN.append(i)\n",
    "        \n",
    "    mydict = {'Serotype':\"SW-H5N1\", 'Sequences':seqN}\n",
    "    return pd.DataFrame(mydict)\n",
    "swine5 = printSwine5()\n",
    "df_row = pd.concat([h1n1, h2n2, h3n2, h5n1, swine1, swine3, swine5, avian1, avian2, avian3, avian5], ignore_index=True)\n",
    "print(df_row)\n",
    "counts = df_row.Serotype.value_counts()\n",
    "# print(counts)\n",
    "\n",
    "#plot counts\n",
    "# plt.figure()\n",
    "# sns.distplot(counts, hist = False, color = 'purple')\n",
    "# plt.title('Count Distribution for Serotpes Types')\n",
    "# plt.ylabel('% of records')\n",
    "# plt.show()\n",
    "fig = plt.figure(figsize=(8,6))\n",
    "df_row.groupby('Serotype').Sequences.count().plot.bar(ylim=0)\n",
    "plt.show()"
   ]
  },
  {
   "cell_type": "code",
   "execution_count": 2,
   "metadata": {},
   "outputs": [
    {
     "name": "stdout",
     "output_type": "stream",
     "text": [
      "      Serotype                                              words\n",
      "0         H1N1  [dticigy, ticigyh, icigyha, cigyhan, igyhann, ...\n",
      "1         H1N1  [dticigy, ticigyh, icigyha, cigyhan, igyhann, ...\n",
      "2         H1N1  [dticigy, ticigyh, icigyha, cigyhan, igyhann, ...\n",
      "3         H1N1  [dticigy, ticigyh, icigyha, cigyhan, igyhann, ...\n",
      "4         H1N1  [dticigy, ticigyh, icigyha, cigyhan, igyhann, ...\n",
      "...        ...                                                ...\n",
      "13362  Av-H5N1  [merivia, erivial, riviala, ivialai, vialaii, ...\n",
      "13363  Av-H5N1  [merivia, erivial, riviala, ivialai, vialaii, ...\n",
      "13364  Av-H5N1  [mekivll, ekivlll, kivllla, ivlllai, vlllaiv, ...\n",
      "13365  Av-H5N1  [mekivll, ekivlll, kivllla, ivlllai, vlllaiv, ...\n",
      "13366  Av-H5N1  [mekivll, ekivllf, kivllfa, ivllfai, vllfaiv, ...\n",
      "\n",
      "[13367 rows x 2 columns]\n"
     ]
    }
   ],
   "source": [
    "def getNGram(sequence, size=7):\n",
    "    return [sequence[i:i+size].lower() for i in range(len(sequence) - size + 1)]\n",
    "\n",
    "df_row['words'] = df_row.apply(lambda x: getNGram(x['Sequences']), axis=1)\n",
    "df_row = df_row.drop('Sequences', axis=1)\n",
    "print(df_row)"
   ]
  },
  {
   "cell_type": "code",
   "execution_count": 3,
   "metadata": {},
   "outputs": [
    {
     "name": "stdout",
     "output_type": "stream",
     "text": [
      "      Serotype                                              words\n",
      "0            0  [dticigy, ticigyh, icigyha, cigyhan, igyhann, ...\n",
      "1            0  [dticigy, ticigyh, icigyha, cigyhan, igyhann, ...\n",
      "2            0  [dticigy, ticigyh, icigyha, cigyhan, igyhann, ...\n",
      "3            0  [dticigy, ticigyh, icigyha, cigyhan, igyhann, ...\n",
      "4            0  [dticigy, ticigyh, icigyha, cigyhan, igyhann, ...\n",
      "...        ...                                                ...\n",
      "13362       10  [merivia, erivial, riviala, ivialai, vialaii, ...\n",
      "13363       10  [merivia, erivial, riviala, ivialai, vialaii, ...\n",
      "13364       10  [mekivll, ekivlll, kivllla, ivlllai, vlllaiv, ...\n",
      "13365       10  [mekivll, ekivlll, kivllla, ivlllai, vlllaiv, ...\n",
      "13366       10  [mekivll, ekivllf, kivllfa, ivllfai, vllfaiv, ...\n",
      "\n",
      "[13367 rows x 2 columns]\n"
     ]
    }
   ],
   "source": [
    "df_row.loc[df_row[\"Serotype\"]=='H1N1', \"Serotype\"]= 0\n",
    "df_row.loc[df_row[\"Serotype\"]=='H2N2', \"Serotype\"]= 1\n",
    "df_row.loc[df_row[\"Serotype\"]=='H3N2', \"Serotype\"]= 2\n",
    "df_row.loc[df_row[\"Serotype\"]=='H5N1', \"Serotype\"]= 3\n",
    "df_row.loc[df_row[\"Serotype\"]=='SW-H1N1', \"Serotype\"]= 4\n",
    "df_row.loc[df_row[\"Serotype\"]=='SW-H3N2', \"Serotype\"]= 5\n",
    "df_row.loc[df_row[\"Serotype\"]=='SW-H5N1', \"Serotype\"]= 6\n",
    "df_row.loc[df_row[\"Serotype\"]=='Av-H1N1', \"Serotype\"]= 7\n",
    "df_row.loc[df_row[\"Serotype\"]=='Av-H2N2', \"Serotype\"]= 8\n",
    "df_row.loc[df_row[\"Serotype\"]=='Av-H3N2', \"Serotype\"]= 9\n",
    "df_row.loc[df_row[\"Serotype\"]=='Av-H5N1', \"Serotype\"]= 10\n",
    "print(df_row)"
   ]
  },
  {
   "cell_type": "code",
   "execution_count": 4,
   "metadata": {},
   "outputs": [],
   "source": [
    "df = list(df_row['words'])\n",
    "for item in range(len(df)):\n",
    "    df[item] =' '.join(df[item])\n",
    "# print(df[0])"
   ]
  },
  {
   "cell_type": "code",
   "execution_count": 5,
   "metadata": {},
   "outputs": [],
   "source": [
    "# df_X = df\n",
    "df_Y = df_row.iloc[:, 0].values\n",
    "# print(df_Y)"
   ]
  },
  {
   "cell_type": "code",
   "execution_count": 6,
   "metadata": {},
   "outputs": [
    {
     "name": "stdout",
     "output_type": "stream",
     "text": [
      "(10693, 2500)\n"
     ]
    }
   ],
   "source": [
    "from sklearn.feature_extraction.text import CountVectorizer\n",
    "from sklearn.model_selection import train_test_split\n",
    "from sklearn.neighbors import KNeighborsClassifier\n",
    "\n",
    "X_vector = CountVectorizer(max_features=2500, ngram_range=(4,4))\n",
    "\n",
    "\n",
    "\n",
    "x_traincv = X_vector.fit_transform(df).toarray()\n",
    "\n",
    "X_train, X_test, y_train, y_test = train_test_split(x_traincv, df_Y, test_size = 0.20, random_state=1)\n",
    "\n",
    "print(X_train.shape)\n",
    "y_train = y_train.astype('int')"
   ]
  },
  {
   "cell_type": "code",
   "execution_count": 7,
   "metadata": {},
   "outputs": [
    {
     "data": {
      "text/plain": [
       "KNeighborsClassifier(algorithm='auto', leaf_size=30, metric='minkowski',\n",
       "                     metric_params=None, n_jobs=None, n_neighbors=5, p=2,\n",
       "                     weights='uniform')"
      ]
     },
     "execution_count": 7,
     "metadata": {},
     "output_type": "execute_result"
    }
   ],
   "source": [
    "knn = KNeighborsClassifier()\n",
    "knn.fit(X_train, y_train)"
   ]
  },
  {
   "cell_type": "code",
   "execution_count": 8,
   "metadata": {},
   "outputs": [
    {
     "name": "stdout",
     "output_type": "stream",
     "text": [
      "Training set score: 0.977\n",
      "Testing set score: 0.964\n",
      "**********************************************************************************\n",
      "\n",
      "\n",
      "\n",
      "Confusion Matrix\n",
      "\n",
      "Predicted   0   1    2   3    4    5   6   7   8   9    10\n",
      "Actual                                                    \n",
      "0          534   1    0   0    1    0   0   0   0   0    0\n",
      "1            0  27    0   0    0    0   0   0   0   0    0\n",
      "2            0   0  461   0    0    0   0   0   0   0    0\n",
      "3            0   0    0  34    0    0   0   0   0   0   47\n",
      "4            3   0    0   0  416    0   0   2   0   0    0\n",
      "5            0   0    2   0    0  542   0   0   0   3    0\n",
      "6            0   0    0   0    0    0   2   0   0   0    7\n",
      "7            0   1    0   0    1    0   0  57   0   0    0\n",
      "8            0   3    0   0    0    0   0   0  14   0    0\n",
      "9            0   0    0   0    1    4   0   0   0  69    0\n",
      "10           0   2    0  16    0    0   3   0   0   0  421\n",
      "accuracy = 0.964 \n",
      "precision = 0.961 \n",
      "recall = 0.964 \n",
      "f1 = 0.961\n"
     ]
    }
   ],
   "source": [
    "from sklearn.metrics import accuracy_score, confusion_matrix, classification_report, f1_score, precision_score, recall_score, roc_curve, auc\n",
    "\n",
    "y_pred = knn.predict(X_test)\n",
    "y_test = y_test.astype('int')\n",
    "print(\"Training set score: {:.3f}\".format(knn.score(X_train, y_train)))\n",
    "print(\"Testing set score: {:.3f}\".format(knn.score(X_test, y_test)))\n",
    "print('**********************************************************************************')\n",
    "print()\n",
    "print()\n",
    "# print('Balanced Parameters')\n",
    "# print(np.unique(y_pred, return_counts=True))\n",
    "# print(np.unique(y_test, return_counts=True))\n",
    "print()\n",
    "print('Confusion Matrix')\n",
    "print()\n",
    "print(pd.crosstab(pd.Series(y_test, name='Actual'), pd.Series(y_pred, name='Predicted')))\n",
    "def conf_matx(y_test, y_predicted):\n",
    "    accuracy = accuracy_score(y_test, y_predicted)\n",
    "    precision = precision_score(y_test, y_predicted, average='weighted')\n",
    "    recall = recall_score(y_test, y_predicted, average='weighted')\n",
    "    f1 = f1_score(y_test, y_predicted, average='weighted')\n",
    "    return accuracy, precision, recall, f1\n",
    "accuracy, precision, recall, f1 = conf_matx(y_test, y_pred)\n",
    "print(\"accuracy = %.3f \\nprecision = %.3f \\nrecall = %.3f \\nf1 = %.3f\" % (accuracy, precision, recall, f1))"
   ]
  },
  {
   "cell_type": "code",
   "execution_count": 9,
   "metadata": {},
   "outputs": [
    {
     "name": "stdout",
     "output_type": "stream",
     "text": [
      "[[534   1   0   0   1   0   0   0   0   0   0]\n",
      " [  0  27   0   0   0   0   0   0   0   0   0]\n",
      " [  0   0 461   0   0   0   0   0   0   0   0]\n",
      " [  0   0   0  34   0   0   0   0   0   0  47]\n",
      " [  3   0   0   0 416   0   0   2   0   0   0]\n",
      " [  0   0   2   0   0 542   0   0   0   3   0]\n",
      " [  0   0   0   0   0   0   2   0   0   0   7]\n",
      " [  0   1   0   0   1   0   0  57   0   0   0]\n",
      " [  0   3   0   0   0   0   0   0  14   0   0]\n",
      " [  0   0   0   0   1   4   0   0   0  69   0]\n",
      " [  0   2   0  16   0   0   3   0   0   0 421]]\n"
     ]
    },
    {
     "data": {
      "text/plain": [
       "<matplotlib.axes._subplots.AxesSubplot at 0x1ff57230>"
      ]
     },
     "execution_count": 9,
     "metadata": {},
     "output_type": "execute_result"
    },
    {
     "data": {
      "image/png": "[encoded data removed]",
      "text/plain": [
       "<Figure size 720x432 with 2 Axes>"
      ]
     },
     "metadata": {
      "needs_background": "light"
     },
     "output_type": "display_data"
    }
   ],
   "source": [
    "matrix = confusion_matrix(y_test, y_pred)\n",
    "print(matrix)\n",
    "matrix = matrix.astype('float')/ matrix.sum(axis=1)[:, np.newaxis]\n",
    "fig, ax = plt.subplots()\n",
    "fig.set_size_inches(10,6)\n",
    "sns.heatmap(matrix)"
   ]
  },
  {
   "cell_type": "code",
   "execution_count": 10,
   "metadata": {},
   "outputs": [
    {
     "name": "stdout",
     "output_type": "stream",
     "text": [
      "              precision    recall  f1-score   support\n",
      "\n",
      "           0       0.99      1.00      1.00       536\n",
      "           1       0.79      1.00      0.89        27\n",
      "           2       1.00      1.00      1.00       461\n",
      "           3       0.68      0.42      0.52        81\n",
      "           4       0.99      0.99      0.99       421\n",
      "           5       0.99      0.99      0.99       547\n",
      "           6       0.40      0.22      0.29         9\n",
      "           7       0.97      0.97      0.97        59\n",
      "           8       1.00      0.82      0.90        17\n",
      "           9       0.96      0.93      0.95        74\n",
      "          10       0.89      0.95      0.92       442\n",
      "\n",
      "    accuracy                           0.96      2674\n",
      "   macro avg       0.88      0.84      0.85      2674\n",
      "weighted avg       0.96      0.96      0.96      2674\n",
      "\n"
     ]
    }
   ],
   "source": [
    "print(classification_report(y_test, y_pred))"
   ]
  },
  {
   "cell_type": "code",
   "execution_count": 11,
   "metadata": {},
   "outputs": [],
   "source": [
    "# from sklearn.preprocessing import label_binarize\n",
    "# from itertools import cycle\n",
    "\n",
    "# y_pred = svm.fit(X_train, y_train).predict_proba(X_test)\n",
    "# y_test = label_binarize(y_test, classes=[0,1,2,3,4,5,6,7,8,9,10])\n",
    "# n_classes = y_test.shape[1]\n",
    "\n",
    "# # Plot linewidth.\n",
    "# lw = 2\n",
    "\n",
    "# # Compute ROC curve and ROC area for each class using \"fall positive rate\" and \"true positive rate\"\n",
    "# fpr = dict()\n",
    "# tpr = dict()\n",
    "# roc_auc = dict()\n",
    "\n",
    "# for i in range(n_classes):\n",
    "#     fpr[i], tpr[i], _ = roc_curve(y_test[:, i], y_pred[:, i])\n",
    "#     roc_auc[i] = auc(fpr[i], tpr[i])\n",
    "\n",
    "\n",
    "\n",
    "# colors = cycle(['aqua', 'darkorange', 'cornflowerblue', 'blue', 'pink', 'red', 'orange', 'purple', 'yellow', 'green', 'navy'])\n",
    "# for i, color in zip(range(n_classes), colors):\n",
    "#     plt.plot(fpr[i], tpr[i], color=color, lw=lw,\n",
    "#              label='ROC curve of class {0} (area = {1:0.2f})'\n",
    "#              ''.format(i, roc_auc[i]))\n",
    "\n",
    "# plt.plot([0, 1], [0, 1], 'k--', lw=lw)\n",
    "# plt.xlim([0.0, 1.0])\n",
    "# plt.ylim([0.0, 1.05])\n",
    "# plt.xlabel('False Positive Rate')\n",
    "# plt.ylabel('True Positive Rate')\n",
    "# plt.title('ROC of different types of Serotypes')\n",
    "# plt.legend(loc=\"lower right\")\n",
    "# plt.show()\n"
   ]
  }
 ],
 "metadata": {
  "kernelspec": {
   "display_name": "Python 3",
   "language": "python",
   "name": "python3"
  },
  "language_info": {
   "codemirror_mode": {
    "name": "ipython",
    "version": 3
   },
   "file_extension": ".py",
   "mimetype": "text/x-python",
   "name": "python",
   "nbconvert_exporter": "python",
   "pygments_lexer": "ipython3",
   "version": "3.7.4"
  }
 },
 "nbformat": 4,
 "nbformat_minor": 4
}
